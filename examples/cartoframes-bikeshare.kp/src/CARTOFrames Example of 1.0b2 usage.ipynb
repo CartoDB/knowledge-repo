{
 "cells": [
  {
   "cell_type": "raw",
   "metadata": {},
   "source": [
    "---\n",
    "title:  CARTOFrames Bikeshare Example with v1.0b2\n",
    "authors:\n",
    "- eschbacher\n",
    "tags:\n",
    "- cartoframes\n",
    "- example\n",
    "created_at: 2019-06-29\n",
    "updated_at: 2019-08-21\n",
    "tldr: Example of POSTGIS SQL, Enrichment with DO v1, Legends,  Grided maps, Publishing an App \n",
    "---"
   ]
  },
  {
   "cell_type": "code",
   "execution_count": null,
   "metadata": {
    "collapsed": false
   },
   "outputs": [],
   "source": [
    "from cartoframes.__version__ import __version__\n",
    "print(__version__)\n",
    "# note: this is actually from `develop`: pip install -e git+https://github.com/cartodb/cartoframes.git@develop#egg=cartoframes"
   ]
  },
  {
   "cell_type": "code",
   "execution_count": null,
   "metadata": {
    "collapsed": true
   },
   "outputs": [],
   "source": [
    "from cartoframes.auth import set_default_credentials, Credentials\n",
    "from cartoframes.client import SQLClient\n",
    "from cartoframes.data import Dataset\n",
    "from cartoframes.viz import Map, Layer\n",
    "import pandas as pd\n",
    "import geopandas as gpd\n",
    "\n",
    "creds = Credentials('eschbacher', 'x')\n",
    "\n",
    "set_default_credentials(creds)\n",
    "\n",
    "station_points = 'capital_bikeshare_stations_points_arlington'\n",
    "usage_data = 'capitalbikeshare_tripdata_201907'\n",
    "\n",
    "sql_client = SQLClient(creds)"
   ]
  },
  {
   "cell_type": "code",
   "execution_count": null,
   "metadata": {
    "collapsed": false
   },
   "outputs": [],
   "source": [
    "Dataset(usage_data).download(limit=2)"
   ]
  },
  {
   "cell_type": "code",
   "execution_count": null,
   "metadata": {
    "collapsed": false
   },
   "outputs": [],
   "source": [
    "Dataset(station_points).download(limit=2)"
   ]
  },
  {
   "cell_type": "code",
   "execution_count": null,
   "metadata": {
    "collapsed": true
   },
   "outputs": [],
   "source": [
    "from cartoframes.viz.helpers import size_continuous_layer"
   ]
  },
  {
   "cell_type": "code",
   "execution_count": null,
   "metadata": {
    "collapsed": true
   },
   "outputs": [],
   "source": [
    "from cartoframes.viz.helpers import color_continuous_layer"
   ]
  },
  {
   "cell_type": "markdown",
   "metadata": {},
   "source": [
    "### Visualize the data"
   ]
  },
  {
   "cell_type": "code",
   "execution_count": null,
   "metadata": {
    "collapsed": false
   },
   "outputs": [],
   "source": [
    "sql = f'''\n",
    "SELECT\n",
    "    _ends.num_bike_dropoffs,\n",
    "    _starts.num_bike_pickups,\n",
    "    abs(_ends.num_bike_dropoffs - _starts.num_bike_pickups) as diff,\n",
    "    CASE WHEN _ends.num_bike_dropoffs - _starts.num_bike_pickups > 0 THEN 1\n",
    "         WHEN _ends.num_bike_dropoffs - _starts.num_bike_pickups = 0 THEN 0\n",
    "         ELSE -1 END as diff_sign,\n",
    "    _ends.num_bike_dropoffs - _starts.num_bike_pickups as diff_relative,\n",
    "    _starts.station_id,\n",
    "    row_number() OVER () as cartodb_id,\n",
    "    ST_X(_starts.the_geom) as longitude,\n",
    "    ST_Y(_starts.the_geom) as latitude,\n",
    "    _starts.the_geom,\n",
    "    ST_Transform(_starts.the_geom, 3857) as the_geom_webmercator\n",
    "FROM\n",
    "    (SELECT\n",
    "      count(u.*) as num_bike_dropoffs,\n",
    "      u.end_station_number::int as station_id,\n",
    "      s.the_geom,\n",
    "      s.cartodb_id\n",
    "    FROM {station_points} as s\n",
    "    JOIN {usage_data} as u\n",
    "    ON u.end_station_number::int = s.gisid::int\n",
    "    GROUP BY 2, 3, 4) as _ends\n",
    "JOIN\n",
    "    (SELECT\n",
    "      count(u.*) as num_bike_pickups,\n",
    "      u.start_station_number::int as station_id,\n",
    "      s.the_geom,\n",
    "      s.cartodb_id\n",
    "    FROM {usage_data} as u\n",
    "    JOIN {station_points} as s\n",
    "    ON u.start_station_number::int = s.gisid::int\n",
    "    GROUP BY 2, 3, 4) as _starts\n",
    "ON _ends.station_id = _starts.station_id\n",
    "'''\n",
    "Map([\n",
    "    size_continuous_layer(Dataset(sql), 'num_bike_pickups'),\n",
    "#     color_continuous_layer(Dataset(sql), 'diff_relative')\n",
    "    size_continuous_layer(Dataset(sql), 'num_bike_dropoffs', color='purple')  \n",
    "])"
   ]
  },
  {
   "cell_type": "code",
   "execution_count": null,
   "metadata": {
    "collapsed": false
   },
   "outputs": [],
   "source": [
    "pickup_dropoff_points = 'capital_bikeshare_july_2019_pickup_dropoff'\n",
    "Dataset(sql).upload(table_name=pickup_dropoff_points)"
   ]
  },
  {
   "cell_type": "code",
   "execution_count": null,
   "metadata": {
    "collapsed": false
   },
   "outputs": [],
   "source": [
    "Map([\n",
    "    size_continuous_layer(pickup_dropoff_points, 'num_bike_pickups'),\n",
    "#     color_continuous_layer(Dataset(sql), 'diff_relative')\n",
    "    size_continuous_layer(pickup_dropoff_points, 'num_bike_dropoffs', color='purple')  \n",
    "])"
   ]
  },
  {
   "cell_type": "code",
   "execution_count": null,
   "metadata": {
    "collapsed": false
   },
   "outputs": [],
   "source": [
    "from cartoframes.viz import WidgetList\n",
    "value = 'diff'\n",
    "title = 'Drop Offs '\n",
    "diff_map = Layer(\n",
    "        sql,\n",
    "        style={\n",
    "            'point': {\n",
    "                'width': 'ramp(linear(sqrt(${0}), sqrt(globalMin(${0})), sqrt(globalMax(${0}))), {1})'.format(\n",
    "                    value, [2, 40]),\n",
    "                'color': 'opacity(ramp(${0}, antique), 0.8)'.format(\n",
    "                    'diff_sign', 'diff_sign'),\n",
    "                'strokeColor': 'opacity(#222,ramp(linear(zoom(),0,18),[0,0.6]))',\n",
    "            }\n",
    "        },\n",
    "        popup={\n",
    "            'hover': [{\n",
    "                'title': title,\n",
    "                'value': f'$diff_sign * ${value}'\n",
    "            }]\n",
    "        },\n",
    "        legend={\n",
    "            'type': {\n",
    "                'point': 'size-continuous-point',\n",
    "                'line': 'size-continuous-line',\n",
    "                'polygon': 'size-continuous-polygon'\n",
    "            },\n",
    "            'title': title,\n",
    "            'description': '',\n",
    "            'footer': ''\n",
    "        }\n",
    "    )\n",
    "diff_map"
   ]
  },
  {
   "cell_type": "markdown",
   "metadata": {},
   "source": [
    "### Animating pickups/dropoffs over time"
   ]
  },
  {
   "cell_type": "code",
   "execution_count": null,
   "metadata": {
    "collapsed": false
   },
   "outputs": [],
   "source": [
    "sql = f'''\n",
    "SELECT\n",
    "    _ends.num_bike_dropoffs,\n",
    "    _starts.num_bike_pickups,\n",
    "    abs(_ends.num_bike_dropoffs - _starts.num_bike_pickups) as diff,\n",
    "    CASE WHEN _ends.num_bike_dropoffs - _starts.num_bike_pickups > 0 THEN 1\n",
    "         WHEN _ends.num_bike_dropoffs - _starts.num_bike_pickups = 0 THEN 0\n",
    "         ELSE -1 END as diff_sign,\n",
    "    _ends.num_bike_dropoffs - _starts.num_bike_pickups as diff_relative,\n",
    "    _starts.station_id,\n",
    "    row_number() OVER () as cartodb_id,\n",
    "    ST_X(_starts.the_geom) as longitude,\n",
    "    ST_Y(_starts.the_geom) as latitude,\n",
    "    _starts.the_geom,\n",
    "    ST_Transform(_starts.the_geom, 3857) as the_geom_webmercator,\n",
    "    _ends.day_of_month::numeric as day_of_month\n",
    "FROM\n",
    "    (SELECT\n",
    "      count(u.*) as num_bike_dropoffs,\n",
    "      u.end_station_number::int as station_id,\n",
    "      s.the_geom,\n",
    "      s.cartodb_id,\n",
    "      EXTRACT(DAY FROM end_date) as day_of_month\n",
    "    FROM {station_points} as s\n",
    "    JOIN {usage_data} as u\n",
    "    ON u.end_station_number::int = s.gisid::int\n",
    "    GROUP BY 2, 3, 4, 5) as _ends\n",
    "JOIN\n",
    "    (SELECT\n",
    "      count(u.*) as num_bike_pickups,\n",
    "      u.start_station_number::int as station_id,\n",
    "      s.the_geom,\n",
    "      s.cartodb_id,\n",
    "      EXTRACT(DAY FROM start_date) as day_of_month\n",
    "    FROM {usage_data} as u\n",
    "    JOIN {station_points} as s\n",
    "    ON u.start_station_number::int = s.gisid::int\n",
    "    GROUP BY 2, 3, 4, 5) as _starts\n",
    "ON _ends.station_id = _starts.station_id and _ends.day_of_month = _starts.day_of_month\n",
    "'''\n",
    "\n",
    "size_continuous_layer(Dataset(sql), 'diff', animate='day_of_month')"
   ]
  },
  {
   "cell_type": "code",
   "execution_count": null,
   "metadata": {
    "collapsed": true
   },
   "outputs": [],
   "source": [
    "cols = set(Dataset(pickup_dropoff_points).download(limit=5).columns) - {'the_geom', 'cartodb_id', 'the_geom_webmercator'}\n",
    "sql = f'''\n",
    "CREATE TABLE {pickup_dropoff_points}_isochrone AS\n",
    "SELECT ST_MakeValid((cdb_isochrone(the_geom, 'walk', Array[600])).the_geom) as the_geom, cartodb_id,\n",
    "    {','.join(cols)}\n",
    "FROM {pickup_dropoff_points};\n",
    "SELECT CDB_Cartodbfytable('eschbacher', '{pickup_dropoff_points}_isochrone');\n",
    "'''\n",
    "\n",
    "sql_client.execute(sql)"
   ]
  },
  {
   "cell_type": "code",
   "execution_count": null,
   "metadata": {
    "collapsed": false
   },
   "outputs": [],
   "source": [
    "Layer(f'{pickup_dropoff_points}_isochrone')"
   ]
  },
  {
   "cell_type": "code",
   "execution_count": null,
   "metadata": {
    "collapsed": true
   },
   "outputs": [],
   "source": [
    "from cartoframes.client import DataObsClient\n",
    "do = DataObsClient(creds)"
   ]
  },
  {
   "cell_type": "code",
   "execution_count": null,
   "metadata": {
    "collapsed": true
   },
   "outputs": [],
   "source": [
    "do_aug = do.augment(\n",
    "    f'{pickup_dropoff_points}_isochrone',\n",
    "    [{\"numer_id\": \"us.census.acs.B23006001\",\n",
    "         \"denom_id\": \"us.census.acs.B01003001\",\n",
    "         \"normalization\": \"denominated\"}]\n",
    ")"
   ]
  },
  {
   "cell_type": "code",
   "execution_count": null,
   "metadata": {
    "collapsed": false
   },
   "outputs": [],
   "source": [
    "do_aug.dataframe.head()"
   ]
  },
  {
   "cell_type": "code",
   "execution_count": null,
   "metadata": {
    "collapsed": false
   },
   "outputs": [],
   "source": [
    "do_aug.upload(table_name=f'{pickup_dropoff_points}_isochrone_augmented')"
   ]
  },
  {
   "cell_type": "code",
   "execution_count": null,
   "metadata": {
    "collapsed": false
   },
   "outputs": [],
   "source": [
    "color_continuous_layer(f'{pickup_dropoff_points}_isochrone_augmented', 'pop_25_64_2011_2015_by_total_pop')"
   ]
  },
  {
   "cell_type": "markdown",
   "metadata": {},
   "source": [
    "### Run a Model"
   ]
  },
  {
   "cell_type": "code",
   "execution_count": null,
   "metadata": {
    "collapsed": false
   },
   "outputs": [],
   "source": [
    "from sklearn.cluster import KMeans\n",
    "from sklearn.preprocessing import StandardScaler\n",
    "from sklearn.pipeline import make_pipeline\n",
    "\n",
    "pipeline.fit(do_aug.dataframe[['num_bike_pickups', 'num_bike_dropoffs', 'pop_25_64_2011_2015_by_total_pop']])"
   ]
  },
  {
   "cell_type": "markdown",
   "metadata": {},
   "source": [
    "### Add results to dataset"
   ]
  },
  {
   "cell_type": "code",
   "execution_count": null,
   "metadata": {
    "collapsed": true
   },
   "outputs": [],
   "source": [
    "do_aug.dataframe['labels'] = pipeline.steps[1][1].labels_.astype(str)"
   ]
  },
  {
   "cell_type": "code",
   "execution_count": null,
   "metadata": {
    "collapsed": false
   },
   "outputs": [],
   "source": [
    "do_aug.dataframe.head()"
   ]
  },
  {
   "cell_type": "code",
   "execution_count": null,
   "metadata": {
    "collapsed": false
   },
   "outputs": [],
   "source": [
    "do_aug.upload(table_name='demo_augmentation', if_exists='replace')"
   ]
  },
  {
   "cell_type": "code",
   "execution_count": null,
   "metadata": {
    "collapsed": false
   },
   "outputs": [],
   "source": [
    "results_map = Map(\n",
    "    color_category_layer('demo_augmentation', 'labels', widget=True, palette='prism'),\n",
    "    \n",
    ")\n",
    "results_map"
   ]
  },
  {
   "cell_type": "code",
   "execution_count": null,
   "metadata": {
    "collapsed": false
   },
   "outputs": [],
   "source": [
    "results_map.publish('Station Encoding')"
   ]
  },
  {
   "cell_type": "markdown",
   "metadata": {},
   "source": [
    "### Map Grid"
   ]
  },
  {
   "cell_type": "code",
   "execution_count": null,
   "metadata": {
    "collapsed": false
   },
   "outputs": [],
   "source": [
    "from cartoframes.viz import MapGrid\n",
    "results_map = Map(\n",
    "    color_category_layer('demo_augmentation', 'labels')\n",
    ")\n",
    "MapGrid([\n",
    "    results_map,\n",
    "    Map(diff_map)\n",
    "], 2, 1, viewport={'zoom': 11})"
   ]
  },
  {
   "cell_type": "code",
   "execution_count": null,
   "metadata": {
    "collapsed": true
   },
   "outputs": [],
   "source": []
  }
 ],
 "metadata": {
  "kernelspec": {
   "display_name": "Python 3",
   "language": "python",
   "name": "python3"
  },
  "language_info": {
   "codemirror_mode": {
    "name": "ipython",
    "version": 3
   },
   "file_extension": ".py",
   "mimetype": "text/x-python",
   "name": "python",
   "nbconvert_exporter": "python",
   "pygments_lexer": "ipython3",
   "version": "3.5.0"
  }
 },
 "nbformat": 4,
 "nbformat_minor": 4
}