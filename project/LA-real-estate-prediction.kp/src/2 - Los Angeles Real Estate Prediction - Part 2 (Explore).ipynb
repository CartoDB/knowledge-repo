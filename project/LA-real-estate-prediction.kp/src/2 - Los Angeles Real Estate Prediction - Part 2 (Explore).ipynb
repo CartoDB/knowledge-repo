{
 "cells": [
  {
   "cell_type": "raw",
   "metadata": {},
   "source": [
    "---\n",
    "title:  Los Angeles Real Estate Price Prediction Part 2\n",
    "authors:\n",
    "- matt\n",
    "tags:\n",
    "- cartoframes\n",
    "- prediction\n",
    "created_at: 2019-06-29\n",
    "updated_at: 2019-06-30\n",
    "tldr: Real estate prices are something that are tied not only to the attributes of the property, such as the lot size, house size, and other variables, but also the conditions around them that exist in space. \n",
    "---"
   ]
  },
  {
   "cell_type": "markdown",
   "metadata": {},
   "source": [
    "# Los Angeles Real Estate Price Prediction\n",
    "\n",
    "## Part 2: Explore Spatial Relationships\n",
    "\n",
    "Real estate prices are something that are tied not only to the attributes of the property, such as the lot size, house size, and other variables, but also the conditions around them that exist in space. \n",
    "This could be demographics, nearby sales, neighborhoods, proximity to business districts, etc.\n",
    "\n",
    "To truly understand and predict prices we need to look at the spatial variables that make up the conditions around a property. In this notebook we will explore that further using real estate sales data from 2017 to 2019 in Los Angeles County.\n",
    "\n",
    "This data has been imported into CARTO, a spatial data science platform and PostGIS database, and will be brought into the notebook using CARTOFrames, a library that will allow us to interface with data in our CARTO account and create map visualizations. \n",
    "\n",
    "The data consists of two datasets, the first being historical sales data from the Los Angeles County Office of the Assessor:    \n",
    "\n",
    "- [Property Assessment Information System Map](http://maps.assessor.lacounty.gov/GVH_2_2/Index.html?configBase=http://maps.assessor.lacounty.gov/Geocortex/Essentials/REST/sites/PAIS/viewers/PAIS_hv/virtualdirectory/Resources/Config/Default)\n",
    "- [Sales Parcels](http://assessor.gis.lacounty.gov/assessor/rest/services/PAIS/pais_sales_parcels/MapServer/0)\n",
    "- [All Parcels](http://assessor.gis.lacounty.gov/assessor/rest/services/PAIS/pais_parcels/MapServer/0)\n",
    "\n",
    "And parcel information from the LA County Open Data Portal:\n",
    "\n",
    "- [2018 Property Parcels](https://data.lacounty.gov/Parcel-/Assessor-Parcels-Data-2018/mk7y-hq5p)\n",
    "\n",
    "Our goals for this project are:\n",
    "\n",
    "\n",
    "1. To import and clean the real estate data \n",
    "2. Exploratory (spatial) data analysis\n",
    "3. Limit our analysis to one category of property and explore relevant features\n",
    "4. Feature engineering and tests with various machine learning models\n",
    "5. Add spatial features to the data and explore spatial relationships\n",
    "6. Test the model with spatial features to see the impact\n",
    "7. Evaluate our model and deploy it for production usage\n"
   ]
  },
  {
   "cell_type": "code",
   "execution_count": null,
   "metadata": {
    "collapsed": false
   },
   "outputs": [],
   "source": [
    "import pandas as pd\n",
    "import cartoframes\n",
    "import seaborn as sns\n",
    "import numpy as np\n",
    "import libpysal\n",
    "from cartoframes import Credentials\n",
    "from cartoframes.contrib import vector\n",
    "\n",
    "import matplotlib.pyplot as plt\n",
    "%matplotlib inline\n",
    "\n",
    "from IPython.core.pylabtools import figsize\n",
    "\n",
    "pd.set_option('display.max_columns', 500)\n",
    "sns.set_style(\"white\")\n",
    "sns.set_style(\"ticks\")\n",
    "sns.despine()\n",
    "\n",
    "\n",
    "USERNAME = 'mforrest-isolines'  \n",
    "APIKEY = '07ab3fb439d92c5f06cfec08bb3417d209c646d8'\n",
    "creds = Credentials(username=USERNAME, key=APIKEY)\n",
    "\n",
    "cc = cartoframes.CartoContext(creds=creds)"
   ]
  },
  {
   "cell_type": "code",
   "execution_count": null,
   "metadata": {
    "collapsed": true
   },
   "outputs": [],
   "source": [
    "sfr = cc.read('la_singlefamilyhomes')"
   ]
  },
  {
   "cell_type": "code",
   "execution_count": null,
   "metadata": {
    "collapsed": false
   },
   "outputs": [],
   "source": [
    "sfr.head(2)"
   ]
  },
  {
   "cell_type": "code",
   "execution_count": null,
   "metadata": {
    "collapsed": false
   },
   "outputs": [],
   "source": [
    "sfr.columns.values"
   ]
  },
  {
   "cell_type": "code",
   "execution_count": null,
   "metadata": {
    "collapsed": false
   },
   "outputs": [],
   "source": [
    "f = sfr[['bathrooms', 'bedrooms', 'yearbuilt', 'improvementvalue', 'landvalue',\n",
    "         'saleprice', 'size', 'sqftmain']]\n",
    "\n",
    "f['yearbuilt'] = f['yearbuilt'].astype(int)\n",
    "\n",
    "f['saleprice'] = f['saleprice'].apply(lambda x:np.log(x))\n",
    "f['improvementvalue'] = f['improvementvalue'].apply(lambda x:np.log(x).astype(int))\n",
    "# f = f[(f['improvementvalue'] != float('inf')) and (f['improvementvalue'] != float('-inf'))]\n",
    "\n",
    "f['landvalue'] = f['landvalue'].apply(lambda x:np.log(x).astype(int))\n",
    "# f = f[(f['landvalue'] != float('inf')) and (f['landvalue'] != float('-inf'))]\n",
    "f = f[(f['yearbuilt'] > 0) & (f['bedrooms'] < 20) & (f['bathrooms'] < 20) & (f['improvementvalue'] > 0)]\n",
    "\n",
    "# f.reset_index(drop=True, inplace=True)\n",
    "\n",
    "pp = sns.pairplot(f)"
   ]
  },
  {
   "cell_type": "markdown",
   "metadata": {},
   "source": [
    "# Residential Area and Sale Price"
   ]
  },
  {
   "cell_type": "code",
   "execution_count": null,
   "metadata": {
    "collapsed": false
   },
   "outputs": [],
   "source": [
    "sns.set_style(\"white\")\n",
    "sns.set_style(\"ticks\")\n",
    "\n",
    "d = f[f['bedrooms'] < 20]\n",
    "\n",
    "g = sns.JointGrid(x=\"saleprice\", y=\"bedrooms\", data=d)\n",
    "g = g.plot(sns.regplot, sns.distplot)"
   ]
  },
  {
   "cell_type": "code",
   "execution_count": null,
   "metadata": {
    "collapsed": false
   },
   "outputs": [],
   "source": [
    "sns.set_style(\"white\")\n",
    "sns.set_style(\"ticks\")\n",
    "\n",
    "f['size'] = f['size'].apply(lambda x:np.log(x))\n",
    "\n",
    "g = sns.JointGrid(x=\"saleprice\", y=\"size\", data=f)\n",
    "g = g.plot(sns.regplot, sns.distplot)"
   ]
  },
  {
   "cell_type": "code",
   "execution_count": null,
   "metadata": {
    "collapsed": false
   },
   "outputs": [],
   "source": [
    "sns.set_style(\"white\")\n",
    "sns.set_style(\"ticks\")\n",
    "\n",
    "f['landvalue'] = f['landvalue'].apply(lambda x:np.log(x))\n",
    "\n",
    "g = sns.JointGrid(x=\"saleprice\", y=\"landvalue\", data=f)\n",
    "g = g.plot(sns.regplot, sns.distplot)"
   ]
  },
  {
   "cell_type": "markdown",
   "metadata": {},
   "source": [
    "# Remove additional outliers\n",
    "\n",
    "As we saw above, we want to pull out any additional outlier data."
   ]
  },
  {
   "cell_type": "code",
   "execution_count": null,
   "metadata": {
    "collapsed": false
   },
   "outputs": [],
   "source": [
    "d = pd.Series(np.log(sfr.saleprice))\n",
    "\n",
    "ax = sns.distplot(d, bins=20, kde=True, rug=True, color=\"#0A157F\", axlabel='Sales Price')"
   ]
  },
  {
   "cell_type": "markdown",
   "metadata": {},
   "source": [
    "# Remove extreme outliers\n",
    "\n",
    "Remove the most extreme outliers from the data using this function:"
   ]
  },
  {
   "cell_type": "code",
   "execution_count": null,
   "metadata": {
    "collapsed": true
   },
   "outputs": [],
   "source": [
    "first_quartile = sfr['saleprice'].describe()['25%']\n",
    "third_quartile = sfr['saleprice'].describe()['75%']\n",
    "\n",
    "# Interquartile range\n",
    "iqr = third_quartile - first_quartile\n",
    "\n",
    "# Remove outliers\n",
    "sfr_c = sfr[(sfr['saleprice'] > (first_quartile - 3 * iqr)) &\n",
    "            (sfr['saleprice'] < (third_quartile + 3 * iqr))]"
   ]
  },
  {
   "cell_type": "code",
   "execution_count": null,
   "metadata": {
    "collapsed": false
   },
   "outputs": [],
   "source": [
    "d = pd.Series(np.log(sfr_c.saleprice))\n",
    "d = sfr_c.saleprice\n",
    "\n",
    "ax = sns.distplot(d, bins=20, kde=False, rug=True, color=\"#0A157F\", axlabel='Sales Price')"
   ]
  },
  {
   "cell_type": "code",
   "execution_count": null,
   "metadata": {
    "collapsed": false
   },
   "outputs": [],
   "source": [
    "sfr_c.sort_values(by=['saleprice'], ascending=False).head(10)"
   ]
  },
  {
   "cell_type": "markdown",
   "metadata": {},
   "source": [
    "# Spatial Data Exploration and Variables\n",
    "\n",
    "Before we run our prediction model, let's look at the spatial relationships between the different buildings across the city. \n",
    "\n",
    "We will use [**PySAL**](https://pysal.org/index.html) or Python Spatial Analysis Library to perform the spatial data exploration. We will identify significant clusters of high home sales using the [`esda`](https://esda.readthedocs.io/en/latest/) module from PySAL."
   ]
  },
  {
   "cell_type": "code",
   "execution_count": null,
   "metadata": {
    "collapsed": false
   },
   "outputs": [],
   "source": [
    "cc.write(sfr_c, 'la_eval_clean', overwrite=True)"
   ]
  },
  {
   "cell_type": "code",
   "execution_count": null,
   "metadata": {
    "collapsed": false,
    "scrolled": true
   },
   "outputs": [],
   "source": [
    "sfr_pysal = cc.read('la_eval_clean', decode_geom=True)\n",
    "sfr_ps = sfr_pysal.sort_values(ascending=False, by='formatted_saledate')\n",
    "sfr_ps.head(2)"
   ]
  },
  {
   "cell_type": "code",
   "execution_count": null,
   "metadata": {
    "collapsed": false
   },
   "outputs": [],
   "source": [
    "sfr_ps.info()"
   ]
  },
  {
   "cell_type": "markdown",
   "metadata": {},
   "source": [
    "# Drop duplicate geometries\n",
    "\n",
    "We need to drop duplicate geometries from the dataset for the Moran's I evaluation since that will cause an error with PySAL."
   ]
  },
  {
   "cell_type": "code",
   "execution_count": null,
   "metadata": {
    "collapsed": false
   },
   "outputs": [],
   "source": [
    "sfr_ps.drop_duplicates(subset = \"plot_id\", inplace = True) \n",
    "sfr_ps.info()"
   ]
  },
  {
   "cell_type": "markdown",
   "metadata": {},
   "source": [
    "# Create spatial weights\n",
    "\n",
    "First we need to evaluate the spatial relationships between all the different buildings. Since these geometries do not touch, we want to use the KNN weights from PySAL:\n",
    "\n",
    "https://libpysal.readthedocs.io/en/latest/generated/libpysal.weights.KNN.html#libpysal.weights.KNN"
   ]
  },
  {
   "cell_type": "code",
   "execution_count": null,
   "metadata": {
    "collapsed": false
   },
   "outputs": [],
   "source": [
    "W = libpysal.weights.KNN.from_dataframe(sfr_ps, k=10)\n",
    "W.transform = 'r'"
   ]
  },
  {
   "cell_type": "markdown",
   "metadata": {},
   "source": [
    "# Moran's I Local\n",
    "\n",
    "To identify the significant clusters, we will use the Moran's I Local analysis from PySAL to identify clusters of high sale prices. Spatial autocorrelation as described by the PySAL examples is:\n",
    "\n",
    "*The concept of spatial autocorrelation relates to the combination of two types of similarity: spatial similarity and attribute similarity. Although there are many different measures of spatial autocorrelation, they all combine these two types of similarity into a summary measure.*\n",
    "\n",
    "http://darribas.org/gds_scipy16/ipynb_md/04_esda.html\n",
    "https://nbviewer.jupyter.org/github/pysal/esda/blob/master/notebooks/Spatial%20Autocorrelation%20for%20Areal%20Unit%20Data.ipynb"
   ]
  },
  {
   "cell_type": "code",
   "execution_count": null,
   "metadata": {
    "collapsed": false
   },
   "outputs": [],
   "source": [
    "import esda\n",
    "moran = esda.Moran_Local(sfr_ps.saleprice, W, transformation = \"r\")"
   ]
  },
  {
   "cell_type": "markdown",
   "metadata": {},
   "source": [
    "# Moran's Quads\n",
    "\n",
    "We will use these values to create human readable clusters from the analysis - from the PySAL docs:\n",
    "\n",
    "**q : array**\n",
    "\n",
    "(if permutations>0) values indicate quandrant location 1 HH, 2 LH, 3 LL, 4 HL"
   ]
  },
  {
   "cell_type": "code",
   "execution_count": null,
   "metadata": {
    "collapsed": true
   },
   "outputs": [],
   "source": [
    "moran.q[10:100]"
   ]
  },
  {
   "cell_type": "markdown",
   "metadata": {},
   "source": [
    "# Similarity\n",
    "\n",
    "From PySAL Docs:\n",
    "\n",
    "**p_sim : array**\n",
    "\n",
    "(if permutations>0) p-values based on permutations (one-sided) null: spatial randomness alternative: the observed Ii is further away or extreme from the median of simulated values. It is either extremely high or extremely low in the distribution of simulated Is."
   ]
  },
  {
   "cell_type": "code",
   "execution_count": null,
   "metadata": {
    "collapsed": true
   },
   "outputs": [],
   "source": [
    "moran.p_sim"
   ]
  },
  {
   "cell_type": "markdown",
   "metadata": {},
   "source": [
    "From PySAL Docs:\n",
    "\n",
    "**p_z_sim : array**\n",
    "\n",
    "(if permutations>0) p-values based on standard normal approximation from permutations (one-sided) for two-sided tests, these values should be multiplied by 2"
   ]
  },
  {
   "cell_type": "code",
   "execution_count": null,
   "metadata": {
    "collapsed": true
   },
   "outputs": [],
   "source": [
    "moran.p_z_sim"
   ]
  },
  {
   "cell_type": "code",
   "execution_count": null,
   "metadata": {
    "collapsed": true
   },
   "outputs": [],
   "source": [
    "lag = libpysal.weights.lag_spatial(W, sfr_ps.saleprice)\n",
    "data = sfr_ps.saleprice"
   ]
  },
  {
   "cell_type": "code",
   "execution_count": null,
   "metadata": {
    "collapsed": true
   },
   "outputs": [],
   "source": [
    "sig = 1 * (moran.p_sim < 0.05)\n",
    "HH = 1 * (sig * moran.q==1)\n",
    "LL = 3 * (sig * moran.q==3)\n",
    "LH = 2 * (sig * moran.q==2)\n",
    "HL = 4 * (sig * moran.q==4)\n",
    "spots = HH + LL + LH + HL\n",
    "spots"
   ]
  },
  {
   "cell_type": "code",
   "execution_count": null,
   "metadata": {
    "collapsed": true
   },
   "outputs": [],
   "source": [
    "spot_labels = [ '0 Non-Significant', 'HH - Hot Spot', 'LH - Donut', 'LL - Cold Spot', 'HL - Diamond']\n",
    "labels = [spot_labels[i] for i in spots]"
   ]
  },
  {
   "cell_type": "code",
   "execution_count": null,
   "metadata": {
    "collapsed": true
   },
   "outputs": [],
   "source": [
    "moran_to_carto = sfr_ps.assign(cl=labels, p_sim = moran.p_sim, p_z_sim = moran.p_z_sim)\n",
    "moran_to_carto.head(2)"
   ]
  },
  {
   "cell_type": "code",
   "execution_count": null,
   "metadata": {
    "collapsed": true
   },
   "outputs": [],
   "source": [
    "cc.write(moran_to_carto, 'manhattan_moran', overwrite=True)"
   ]
  },
  {
   "cell_type": "code",
   "execution_count": null,
   "metadata": {
    "collapsed": false
   },
   "outputs": [],
   "source": [
    "\n",
    "buckets='buckets($cl,[\"HH - Hot Spot\",\"HL - Diamond\",\"LH - Donut\",\"LL - Cold Spot\"])';\n",
    "colorRamp='ramp('+buckets+',[#cf597e, #e88471, #39b185, #009392])';\n",
    "strokeRamp='ramp('+buckets+',[#B54E6F, #CF7765, #309671, #007A7A],#636363)';\n",
    "opacityStart='opacity('+colorRamp+',1)';\n",
    "opacityEnd='opacity('+colorRamp+',0.6)';\n",
    "\n",
    "vector.vmap(\n",
    "    [vector.Layer(\n",
    "        'manhattan_moran',\n",
    "        color='ramp(zoomrange([0,16]),['+opacityStart+','+opacityEnd+'])',\n",
    "        strokeWidth='ramp(zoomrange([12,14]),[0,0.7])',\n",
    "        strokeColor=strokeRamp,\n",
    "        interactivity={\n",
    "            'cols': ['cl','formatted_saleprice','formatted_size','generalusetype'],\n",
    "            'event': 'hover'\n",
    "        }\n",
    "    ),],\n",
    "    context=cc,\n",
    "    basemap=vector.BaseMaps.voyager\n",
    ")"
   ]
  },
  {
   "cell_type": "markdown",
   "metadata": {},
   "source": [
    "# HH - Hot Spots\n",
    "\n",
    "We can see that there are clusters of high sale price properties in the Upper East Side and the West Village"
   ]
  },
  {
   "cell_type": "code",
   "execution_count": null,
   "metadata": {
    "collapsed": false
   },
   "outputs": [],
   "source": [
    "qHH = '''\n",
    "      SELECT * FROM manhattan_moran\n",
    "      WHERE cl = 'HH - Hot Spot'\n",
    "      '''\n",
    "\n",
    "vector.vmap(\n",
    "    [vector.QueryLayer(\n",
    "        qHH,\n",
    "        color='ramp(zoomrange([0,16]),[opacity(#cf597e,1),opacity(#cf597e,0.6)])',\n",
    "        strokeWidth='ramp(zoomrange([12,14]),[0,0.7])',\n",
    "        strokeColor='#B54E6F',\n",
    "        interactivity={\n",
    "            'cols': ['formatted_saleprice','formatted_size','generalusetype'],\n",
    "            'header': ['<h2>HH - Hot Spot<h2>', ],\n",
    "            'event': 'hover'\n",
    "        }\n",
    "    ),\n",
    "    ],\n",
    "    context=cc,\n",
    "    basemap=vector.BaseMaps.voyager\n",
    ")"
   ]
  },
  {
   "cell_type": "markdown",
   "metadata": {},
   "source": [
    "# LL - Cold Spots\n",
    "\n",
    "Upper Manhattan contains large clusters of low sale price properties"
   ]
  },
  {
   "cell_type": "code",
   "execution_count": null,
   "metadata": {
    "collapsed": false,
    "scrolled": false
   },
   "outputs": [],
   "source": [
    "qLL = '''\n",
    "      SELECT * FROM manhattan_moran\n",
    "      WHERE cl = 'LL - Cold Spot'\n",
    "      '''\n",
    "\n",
    "vector.vmap(\n",
    "    [vector.QueryLayer(\n",
    "        qLL,\n",
    "        color='ramp(zoomrange([0,16]),[opacity(#009392,1),opacity(#009392,0.6)])',\n",
    "        strokeWidth='ramp(zoomrange([12,14]),[0,0.7])',\n",
    "        strokeColor='#007A7A',\n",
    "        interactivity={\n",
    "            'cols': ['formatted_saleprice','formatted_size','generalusetype'],\n",
    "            'header': ['<h2>LL - Cold Spot<h2>', ],\n",
    "            'event': 'hover'\n",
    "        }\n",
    "    ),],\n",
    "    context=cc,\n",
    "    basemap=vector.BaseMaps.voyager\n",
    ")"
   ]
  },
  {
   "cell_type": "markdown",
   "metadata": {},
   "source": [
    "# HL - Diamond\n",
    "\n",
    "Properties of high sale price near low sale price properties are also concentrated in LA"
   ]
  },
  {
   "cell_type": "code",
   "execution_count": null,
   "metadata": {
    "collapsed": false
   },
   "outputs": [],
   "source": [
    "qHL = '''\n",
    "      SELECT * FROM manhattan_moran\n",
    "      WHERE cl = 'HL - Diamond'\n",
    "      '''\n",
    "\n",
    "vector.vmap(\n",
    "    [vector.QueryLayer(\n",
    "        qHL,\n",
    "        color='ramp(zoomrange([0,16]),[opacity(#e88471,1),opacity(#e88471,0.6)])',\n",
    "        strokeWidth='ramp(zoomrange([12,14]),[0,0.7])',\n",
    "        strokeColor='#CF7765',\n",
    "        interactivity={\n",
    "            'cols': ['formatted_saleprice','formatted_size','generalusetype'],\n",
    "            'header': ['<h2>HL - Diamond<h2>', ],\n",
    "            'event': 'hover'\n",
    "        }\n",
    "    ),],\n",
    "    context=cc,\n",
    "    basemap=vector.BaseMaps.voyager\n",
    ")"
   ]
  },
  {
   "cell_type": "markdown",
   "metadata": {},
   "source": [
    "# LH - Donut\n",
    "\n",
    "Low sale price properties near high sale price properties are scattered across the city"
   ]
  },
  {
   "cell_type": "code",
   "execution_count": null,
   "metadata": {
    "collapsed": false
   },
   "outputs": [],
   "source": [
    "qLH = '''\n",
    "      SELECT * FROM manhattan_moran\n",
    "      WHERE cl = 'LH - Donut'\n",
    "      '''\n",
    "\n",
    "colorRamp='ramp('+buckets+',[#cf597e, #e88471, #39b185, #009392])';\n",
    "strokeRamp='ramp('+buckets+',[#B54E6F, #CF7765, #309671, #007A7A],#636363)';\n",
    "\n",
    "\n",
    "vector.vmap(\n",
    "    [vector.QueryLayer(\n",
    "        qLH,\n",
    "        color='ramp(zoomrange([0,16]),[opacity(#39b185,1),opacity(#39b185,0.6)])',\n",
    "        strokeWidth='ramp(zoomrange([12,14]),[0,0.7])',\n",
    "        strokeColor='#309671',\n",
    "        interactivity={\n",
    "            'cols': ['formatted_saleprice','formatted_size','generalusetype'],\n",
    "            'header': ['<h2>LH - Donut<h2>', ],\n",
    "            'event': 'hover'\n",
    "        }\n",
    "    ),],\n",
    "    context=cc,\n",
    "    basemap=vector.BaseMaps.voyager\n",
    ")"
   ]
  },
  {
   "cell_type": "code",
   "execution_count": null,
   "metadata": {
    "collapsed": true
   },
   "outputs": [],
   "source": []
  }
 ],
 "metadata": {
  "kernelspec": {
   "display_name": "Python 2",
   "language": "python",
   "name": "python2"
  },
  "language_info": {
   "codemirror_mode": {
    "name": "ipython",
    "version": 2
   },
   "file_extension": ".py",
   "mimetype": "text/x-python",
   "name": "python",
   "nbconvert_exporter": "python",
   "pygments_lexer": "ipython2",
   "version": "2.7.14"
  }
 },
 "nbformat": 4,
 "nbformat_minor": 2
}