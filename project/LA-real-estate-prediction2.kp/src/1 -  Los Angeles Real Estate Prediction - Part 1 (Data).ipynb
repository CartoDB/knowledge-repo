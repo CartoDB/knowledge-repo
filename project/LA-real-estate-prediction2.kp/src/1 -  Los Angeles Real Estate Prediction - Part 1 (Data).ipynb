{
 "cells": [
  {
   "cell_type": "raw",
   "metadata": {},
   "source": [
    "---\n",
    "title:  Los Angeles Real Estate Price Prediction Part 1 \n",
    "authors:\n",
    "- matt\n",
    "tags:\n",
    "- cartoframes\n",
    "- prediction\n",
    "created_at: 2019-06-29\n",
    "updated_at: 2019-06-30\n",
    "tldr: Real estate prices are something that are tied not only to the attributes of the property, such as the lot size, house size, and other variables, but also the conditions around them that exist in space. \n",
    "---"
   ]
  },
  {
   "cell_type": "markdown",
   "metadata": {},
   "source": [
    "# Los Angeles Real Estate Price Prediction\n",
    "\n",
    "## Part 1: Data Cleaning\n",
    "\n",
    "Real estate prices are something that are tied not only to the attributes of the property, such as the lot size, house size, and other variables, but also the conditions around them that exist in space. \n",
    "This could be demographics, nearby sales, neighborhoods, proximity to business districts, etc.\n",
    "\n",
    "To truly understand and predict prices we need to look at the spatial variables that make up the conditions around a property. In this notebook we will explore that further using real estate sales data from 2017 to 2019 in Los Angeles County.\n",
    "\n",
    "This data has been imported into CARTO, a spatial data science platform and PostGIS database, and will be brought into the notebook using CARTOFrames, a library that will allow us to interface with data in our CARTO account and create map visualizations. \n",
    "\n",
    "The data consists of two datasets, the first being historical sales data from the Los Angeles County Office of the Assessor:    \n",
    "\n",
    "- [Property Assessment Information System Map](http://maps.assessor.lacounty.gov/GVH_2_2/Index.html?configBase=http://maps.assessor.lacounty.gov/Geocortex/Essentials/REST/sites/PAIS/viewers/PAIS_hv/virtualdirectory/Resources/Config/Default)\n",
    "- [Sales Parcels](http://assessor.gis.lacounty.gov/assessor/rest/services/PAIS/pais_sales_parcels/MapServer/0)\n",
    "- [All Parcels](http://assessor.gis.lacounty.gov/assessor/rest/services/PAIS/pais_parcels/MapServer/0)\n",
    "\n",
    "And parcel information from the LA County Open Data Portal:\n",
    "\n",
    "- [2018 Property Parcels](https://data.lacounty.gov/Parcel-/Assessor-Parcels-Data-2018/mk7y-hq5p)\n",
    "\n",
    "Our goals for this project are:\n",
    "\n",
    "\n",
    "1. To import and clean the real estate data \n",
    "2. Exploratory (spatial) data analysis\n",
    "3. Limit our analysis to one category of property and explore relevant features\n",
    "4. Feature engineering and tests with various machine learning models\n",
    "5. Add spatial features to the data and explore spatial relationships\n",
    "6. Test the model with spatial features to see the impact\n",
    "7. Evaluate our model and deploy it for production usage\n"
   ]
  },
  {
   "cell_type": "code",
   "execution_count": null,
   "metadata": {
    "collapsed": false
   },
   "outputs": [],
   "source": [
    "import pandas as pd\n",
    "import cartoframes\n",
    "from cartoframes.contrib import vector\n",
    "import seaborn as sns\n",
    "import numpy as np\n",
    "import libpysal\n",
    "from cartoframes import Credentials\n",
    "import matplotlib.pyplot as plt\n",
    "%matplotlib inline\n",
    "\n",
    "from IPython.core.pylabtools import figsize\n",
    "\n",
    "pd.set_option('display.max_columns', 500)\n",
    "sns.set_style(\"white\")\n",
    "sns.set_style(\"ticks\")\n",
    "sns.despine()\n",
    "\n",
    "\n",
    "USERNAME = 'mforrest-isolines'  \n",
    "APIKEY = '07ab3fb439d92c5f06cfec08bb3417d209c646d8'\n",
    "creds = Credentials(username=USERNAME, key=APIKEY)\n",
    "\n",
    "cc = cartoframes.CartoContext(creds=creds)"
   ]
  },
  {
   "cell_type": "markdown",
   "metadata": {},
   "source": [
    "# Import from CARTO\n",
    "\n",
    "We've joined the sales_parcels with the assersor_parcels_data_2018 on AIN (Assesoor\n",
    "CREATE TABLE la_join AS * \n",
    "    FROM sales_parcels s\n",
    "    LEFT JOIN assessor_parcels_data_2018 p ON s.ain::numeric = p.ain"
   ]
  },
  {
   "cell_type": "code",
   "execution_count": null,
   "metadata": {
    "collapsed": true
   },
   "outputs": [],
   "source": [
    "homes = cc.read('la_join')"
   ]
  },
  {
   "cell_type": "markdown",
   "metadata": {},
   "source": [
    "# Clean our data\n",
    "\n",
    "As you can see from the data dictionary, we will return many different columns from the joined price data and building footprint boundaries, much of which will not be usefull for our final evaluation. Let's explore, then clean the data we have."
   ]
  },
  {
   "cell_type": "code",
   "execution_count": null,
   "metadata": {
    "collapsed": false
   },
   "outputs": [],
   "source": [
    "homes.head()"
   ]
  },
  {
   "cell_type": "code",
   "execution_count": null,
   "metadata": {
    "collapsed": false
   },
   "outputs": [],
   "source": [
    "homes.describe()"
   ]
  },
  {
   "cell_type": "code",
   "execution_count": null,
   "metadata": {
    "collapsed": false
   },
   "outputs": [],
   "source": [
    "homes.columns.values"
   ]
  },
  {
   "cell_type": "markdown",
   "metadata": {},
   "source": [
    "# Clean out missing values\n",
    "\n",
    "First we need to get rid of null values in the data that will not be usefull for the model later on. Using the `missing_values_table()` function we will identify the columns with the most missing values and then remove them at a specific threshold."
   ]
  },
  {
   "cell_type": "code",
   "execution_count": null,
   "metadata": {
    "collapsed": false
   },
   "outputs": [],
   "source": [
    "def missing_values_table(df):\n",
    "        mis_val = df.isnull().sum()\n",
    "        mis_val_percent = 100 * df.isnull().sum() / len(df)\n",
    "        mis_val_table = pd.concat([mis_val, mis_val_percent], axis=1)\n",
    "        mis_val_table_ren_columns = mis_val_table.rename(\n",
    "        columns = {0 : 'Missing Values', 1 : '% of Total Values'})\n",
    "        mis_val_table_ren_columns = mis_val_table_ren_columns[\n",
    "            mis_val_table_ren_columns.iloc[:,1] != 0].sort_values(\n",
    "        '% of Total Values', ascending=False).round(1)\n",
    "        print (\"Your selected dataframe has \" + str(df.shape[1]) + \" columns.\\n\"      \n",
    "            \"There are \" + str(mis_val_table_ren_columns.shape[0]) +\n",
    "              \" columns that have missing values.\")\n",
    "        return mis_val_table_ren_columns\n",
    "\n",
    "missing_values_table(homes)"
   ]
  },
  {
   "cell_type": "code",
   "execution_count": null,
   "metadata": {
    "collapsed": false
   },
   "outputs": [],
   "source": [
    "homes.columns.values"
   ]
  },
  {
   "cell_type": "markdown",
   "metadata": {},
   "source": [
    "# Remove columns\n",
    "\n",
    "As we stated earlier, many of the columns are not useful for our later analysis. Please refer to the two data dictionaries at the beginning of the notebook to see the specific definitions, but we are removing mostly duplicated and other columns that we don't need later on.\n",
    "\n",
    "- `ain_p`, `formatted_ain`, and `assessorid`: Same as `ain`\n",
    "- `bathrooms_p`: Duplicate\n",
    "- `bedrooms_p`: Duplicate\n",
    "- `effective_yearbuilt`: Duplicate\n",
    "- `objectid`: Random identifier\n",
    "- `usecode`: Duplicate\n",
    "- `yearbuilt_p`: Duplicate"
   ]
  },
  {
   "cell_type": "code",
   "execution_count": null,
   "metadata": {
    "collapsed": true
   },
   "outputs": [],
   "source": [
    "columns = ['ain_p', 'assessorid', 'bathrooms_p',\n",
    "       'bedrooms_p', 'effective_yearbuilt', 'formatted_ain', \n",
    "       'objectid', 'usecode', 'usetype',\n",
    "       'yearbuilt_p']\n",
    "\n",
    "homes = homes.drop(columns=columns)\n",
    "homes.head()"
   ]
  },
  {
   "cell_type": "code",
   "execution_count": null,
   "metadata": {
    "collapsed": true
   },
   "outputs": [],
   "source": [
    "missing_values_table(homes)"
   ]
  },
  {
   "cell_type": "code",
   "execution_count": null,
   "metadata": {
    "collapsed": false
   },
   "outputs": [],
   "source": [
    "homes = homes.dropna()\n",
    "homes.head()"
   ]
  },
  {
   "cell_type": "markdown",
   "metadata": {},
   "source": [
    "# Review the building categories\n",
    "\n",
    "As we can see many of the building categories in the data are actually cooperative buildings. From here we can begin to categorize and review specific related subsets of these building types."
   ]
  },
  {
   "cell_type": "code",
   "execution_count": null,
   "metadata": {
    "collapsed": false
   },
   "outputs": [],
   "source": [
    "homes['generalusetype'].value_counts()"
   ]
  },
  {
   "cell_type": "code",
   "execution_count": null,
   "metadata": {
    "collapsed": false
   },
   "outputs": [],
   "source": [
    "homes[homes['generalusetype'] == 'Residential']['specificusetype'].value_counts()"
   ]
  },
  {
   "cell_type": "markdown",
   "metadata": {},
   "source": [
    "# Filter Single Family Residences\n",
    "\n",
    "Since the majority of the data is in the 'Single Family Residence' category, let's focus our analysis on those buildings."
   ]
  },
  {
   "cell_type": "code",
   "execution_count": null,
   "metadata": {
    "collapsed": false
   },
   "outputs": [],
   "source": [
    "sfr = homes[homes['specificusetype'] == 'Single Family Residence']\n",
    "sfr.head()"
   ]
  },
  {
   "cell_type": "code",
   "execution_count": null,
   "metadata": {
    "collapsed": false
   },
   "outputs": [],
   "source": [
    "sns.set(rc={'figure.figsize':(10,10)})\n",
    "\n",
    "sns.heatmap(sfr.corr(),cmap='magma',linecolor='white',linewidths=2)"
   ]
  },
  {
   "cell_type": "markdown",
   "metadata": {},
   "source": [
    "# Map Single Family Residential"
   ]
  },
  {
   "cell_type": "code",
   "execution_count": null,
   "metadata": {
    "collapsed": false
   },
   "outputs": [],
   "source": [
    "\n",
    "qSFR = '''\n",
    "      SELECT * FROM la_join\n",
    "      WHERE specificusetype = 'Single Family Residence'\n",
    "      '''\n",
    "\n",
    "colorRamp='ramp(viewportStandardDev($saleprice, 7), sunset)';\n",
    "strokeRamp='ramp(viewportStandardDev($saleprice, 7), [#D9CE8B,#E0B177,#DE9071,#D17177,#B55B82,#874C87,#4E468C])';\n",
    "\n",
    "vector.vmap(\n",
    "    [vector.QueryLayer(\n",
    "        qSFR,\n",
    "        color='ramp(zoomrange([0,16]),[opacity('+colorRamp+',1),opacity('+colorRamp+',0.6)])',\n",
    "        strokeWidth='ramp(zoomrange([12,14]),[0,0.8])',\n",
    "        strokeColor=strokeRamp,\n",
    "        interactivity={\n",
    "            'cols': ['formatted_saleprice','formatted_size'],\n",
    "            'header': ['<h2>Single Family Residence<h2>', ],\n",
    "            'event': 'hover'\n",
    "        }\n",
    "    ),],\n",
    "    context=cc,\n",
    "    basemap=vector.BaseMaps.voyager\n",
    ")"
   ]
  },
  {
   "cell_type": "markdown",
   "metadata": {},
   "source": [
    "# High Sale Homes\n",
    "\n",
    "Most of the homes over $5M are in Beverly Hills, Santa Monica, Malibu, and Hollywood."
   ]
  },
  {
   "cell_type": "code",
   "execution_count": null,
   "metadata": {
    "collapsed": false
   },
   "outputs": [],
   "source": [
    "q5m = '''\n",
    "      SELECT * FROM la_join\n",
    "      WHERE specificusetype = 'Single Family Residence'\n",
    "      AND saleprice > 10000000\n",
    "      '''\n",
    "colorRamp='ramp(viewportStandardDev($saleprice, 7), sunset)';\n",
    "strokeRamp='ramp(viewportStandardDev($saleprice, 7), [#D9CE8B,#E0B177,#DE9071,#D17177,#B55B82,#874C87,#4E468C])';\n",
    "\n",
    "vector.vmap(\n",
    "    [vector.QueryLayer(\n",
    "        q5m,\n",
    "        color='ramp(zoomrange([0,16]),[opacity('+colorRamp+',1),opacity('+colorRamp+',0.6)])',\n",
    "        strokeWidth='ramp(zoomrange([12,14]),[0,0.7])',\n",
    "        strokeColor=strokeRamp,\n",
    "        interactivity={\n",
    "            'cols': ['formatted_saleprice','formatted_size'],\n",
    "            'header': ['<h2>Single Family Residence > 5 Million<h2>', ],\n",
    "            'event': 'hover'\n",
    "        }\n",
    "    ),\n",
    "    ],\n",
    "    context=cc,\n",
    "    basemap=vector.BaseMaps.darkmatter\n",
    ")"
   ]
  },
  {
   "cell_type": "markdown",
   "metadata": {},
   "source": [
    "# Low Sale Homes\n",
    "\n",
    "Homes under $300K seem to be dispersed throughout the city."
   ]
  },
  {
   "cell_type": "code",
   "execution_count": null,
   "metadata": {
    "collapsed": false
   },
   "outputs": [],
   "source": [
    "q300K = '''\n",
    "      SELECT * FROM la_join\n",
    "      WHERE specificusetype = 'Single Family Residence'\n",
    "      AND saleprice < 300000\n",
    "      '''\n",
    "colorRamp='ramp(viewportStandardDev($saleprice, 7), sunset)';\n",
    "strokeRamp='ramp(viewportStandardDev($saleprice, 7), [#D9CE8B,#E0B177,#DE9071,#D17177,#B55B82,#874C87,#4E468C])';\n",
    "\n",
    "\n",
    "vector.vmap(\n",
    "    [vector.QueryLayer(\n",
    "        q300K,\n",
    "        color='ramp(zoomrange([0,16]),[opacity('+colorRamp+',1),opacity('+colorRamp+',0.6)])',\n",
    "        strokeWidth='ramp(zoomrange([12,14]),[0,0.7])',\n",
    "        strokeColor=strokeRamp,\n",
    "        interactivity={\n",
    "            'cols': ['formatted_saleprice','formatted_size'],\n",
    "            'header': ['<h2>Single Family Residence < 300 Thousand<h2>', ],\n",
    "            'event': 'hover'\n",
    "        }\n",
    "    ),\n",
    "    ],\n",
    "    context=cc,\n",
    "    basemap=vector.BaseMaps.voyager\n",
    ")"
   ]
  },
  {
   "cell_type": "markdown",
   "metadata": {},
   "source": [
    "# High Value Homes\n",
    "\n",
    "Many of the high value homes in Los Angeles are tied to celebrity names, such as [320 N Carolwood Dr](https://www.zillow.com/homedetails/320-N-Carolwood-Dr-Los-Angeles-CA-90077/20523956_zpid/) which was reportedly Frank Sinatra's old home and [454 Cuesta Way](https://therealdeal.com/la/2017/04/27/everything-you-need-to-know-about-beyonce-and-jay-zs-prospective-new-home/) which was bid on by Beyonce and Jay-Z."
   ]
  },
  {
   "cell_type": "code",
   "execution_count": null,
   "metadata": {
    "collapsed": false
   },
   "outputs": [],
   "source": [
    "pd.set_option('display.float_format', lambda x: '%.3f' % x)\n",
    "sfr[['propertylocation', 'saleprice']].sort_values(by=(['saleprice']), ascending=False).head(10)"
   ]
  },
  {
   "cell_type": "markdown",
   "metadata": {},
   "source": [
    "# Low Sale Homes\n",
    "\n",
    "Additionally there are many low value transactions that are outliers we need to account for. It is not clear why they have sold for such low prices, but you can see that the home values are actually much higher or are 'knockdown' lots:\n",
    "\n",
    "- [10757 Clarkson Rd](https://www.zillow.com/homedetails/10757-Clarkson-Rd-Los-Angeles-CA-90064/20461678_zpid/)\n",
    "- [14404 S Corlett Ave](https://www.zillow.com/homedetails/14404-S-Corlett-Ave-Compton-CA-90220/20992072_zpid/)\n",
    "- [15730 Hesby St](https://www.zillow.com/homedetails/15730-Hesby-St-Encino-CA-91436/19980962_zpid/)\n",
    "- [5131 Gaviota Ave](https://www.zillow.com/homedetails/5131-Gaviota-Ave-Encino-CA-91436/19981445_zpid/)"
   ]
  },
  {
   "cell_type": "code",
   "execution_count": null,
   "metadata": {
    "collapsed": false
   },
   "outputs": [],
   "source": [
    "sfr[['propertylocation', 'saleprice']].loc[sfr['saleprice'] > 1].sort_values(by=(['saleprice']), ascending=True).head(30)"
   ]
  },
  {
   "cell_type": "code",
   "execution_count": null,
   "metadata": {
    "collapsed": false
   },
   "outputs": [],
   "source": [
    "sns.set_style(\"white\")\n",
    "sns.set_style(\"ticks\")\n",
    "\n",
    "d = pd.Series(np.log(sfr.saleprice))\n",
    "\n",
    "ax = sns.distplot(d, bins=20, kde=True, rug=True, color=\"#0A157F\", axlabel='Sales Price')"
   ]
  },
  {
   "cell_type": "markdown",
   "metadata": {},
   "source": [
    "# Write current data to CARTO\n",
    "\n",
    "To see where these different values are, let's first write this dataframe to CARTO to explore it on the map."
   ]
  },
  {
   "cell_type": "code",
   "execution_count": null,
   "metadata": {
    "collapsed": false
   },
   "outputs": [],
   "source": [
    "cc.write(sfr, 'la_singlefamilyhomes', overwrite=True)"
   ]
  },
  {
   "cell_type": "code",
   "execution_count": null,
   "metadata": {
    "collapsed": false
   },
   "outputs": [],
   "source": [
    "colorRamp='ramp(viewportStandardDev($saleprice, 7), sunset)';\n",
    "strokeRamp='ramp(viewportStandardDev($saleprice, 7), [#D9CE8B,#E0B177,#DE9071,#D17177,#B55B82,#874C87,#4E468C])';\n",
    "\n",
    "vector.vmap(\n",
    "    [vector.Layer(\n",
    "        'la_singlefamilyhomes',\n",
    "        color='ramp(zoomrange([0,16]),[opacity('+colorRamp+',1),opacity('+colorRamp+',0.6)])',\n",
    "        strokeWidth='ramp(zoomrange([12,14]),[0,0.7])',\n",
    "        strokeColor=strokeRamp,\n",
    "        interactivity={\n",
    "            'cols': ['formatted_saleprice','formatted_size'],\n",
    "            'header': ['<h2>LA Single Family Residence<h2>', ],\n",
    "            'event': 'hover'\n",
    "        }\n",
    "    ),\n",
    "    ],\n",
    "    context=cc,\n",
    "    basemap=vector.BaseMaps.voyager\n",
    ")"
   ]
  },
  {
   "cell_type": "code",
   "execution_count": null,
   "metadata": {
    "collapsed": true
   },
   "outputs": [],
   "source": []
  }
 ],
 "metadata": {
  "kernelspec": {
   "display_name": "Python 3",
   "language": "python",
   "name": "python3"
  },
  "language_info": {
   "codemirror_mode": {
    "name": "ipython",
    "version": 3
   },
   "file_extension": ".py",
   "mimetype": "text/x-python",
   "name": "python",
   "nbconvert_exporter": "python",
   "pygments_lexer": "ipython3",
   "version": "3.5.0"
  }
 },
 "nbformat": 4,
 "nbformat_minor": 2
}